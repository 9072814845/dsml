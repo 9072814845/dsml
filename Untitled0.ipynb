{
  "nbformat": 4,
  "nbformat_minor": 0,
  "metadata": {
    "colab": {
      "name": "Untitled0.ipynb",
      "provenance": [],
      "authorship_tag": "ABX9TyNl1Jnuh1GP/Rp9Lj28h1+u",
      "include_colab_link": true
    },
    "kernelspec": {
      "name": "python3",
      "display_name": "Python 3"
    },
    "language_info": {
      "name": "python"
    }
  },
  "cells": [
    {
      "cell_type": "markdown",
      "metadata": {
        "id": "view-in-github",
        "colab_type": "text"
      },
      "source": [
        "<a href=\"https://colab.research.google.com/github/9072814845/dsml/blob/main/Untitled0.ipynb\" target=\"_parent\"><img src=\"https://colab.research.google.com/assets/colab-badge.svg\" alt=\"Open In Colab\"/></a>"
      ]
    },
    {
      "cell_type": "code",
      "metadata": {
        "colab": {
          "base_uri": "https://localhost:8080/"
        },
        "id": "rD4auroNO4cw",
        "outputId": "e7c0b55d-1069-45b6-8683-b77a69c6f989"
      },
      "source": [
        "print(\"hellooo\")"
      ],
      "execution_count": null,
      "outputs": [
        {
          "output_type": "stream",
          "name": "stdout",
          "text": [
            "hellooo\n"
          ]
        }
      ]
    },
    {
      "cell_type": "code",
      "metadata": {
        "colab": {
          "base_uri": "https://localhost:8080/"
        },
        "id": "74qp8i9wP-F8",
        "outputId": "cc3b9277-acf5-443a-a96d-f352be0d5886"
      },
      "source": [
        "s=1\n",
        "print(type(s))\n",
        "a=\"hello\"\n",
        "print(type(a))\n",
        "b=[1,2]\n",
        "print(type(b))\n",
        "c={1:'apple',2:'orange'}\n",
        "print(type(c))\n",
        "d=True\n",
        "print(type(d))\n",
        "e=1.2\n",
        "print(type(e))\n",
        "f={\"a\",\"b\"}\n",
        "print(type(f))\n",
        "g=()\n",
        "print(type(g))\n",
        "h=bytes()\n",
        "print(type(h))\n",
        "i=bytearray()\n",
        "print(type(i))\n",
        "j=range(4)\n",
        "print(type(j))"
      ],
      "execution_count": 5,
      "outputs": [
        {
          "output_type": "stream",
          "name": "stdout",
          "text": [
            "<class 'int'>\n",
            "<class 'str'>\n",
            "<class 'list'>\n",
            "<class 'dict'>\n",
            "<class 'bool'>\n",
            "<class 'float'>\n",
            "<class 'set'>\n",
            "<class 'tuple'>\n",
            "<class 'bytes'>\n",
            "<class 'bytearray'>\n",
            "<class 'range'>\n"
          ]
        }
      ]
    }
  ]
}