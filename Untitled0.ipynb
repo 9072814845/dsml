{
  "nbformat": 4,
  "nbformat_minor": 0,
  "metadata": {
    "colab": {
      "name": "Untitled0.ipynb",
      "provenance": [],
      "authorship_tag": "ABX9TyNbBb0Cb9jTFYn5C0pqaAAP",
      "include_colab_link": true
    },
    "kernelspec": {
      "name": "python3",
      "display_name": "Python 3"
    },
    "language_info": {
      "name": "python"
    }
  },
  "cells": [
    {
      "cell_type": "markdown",
      "metadata": {
        "id": "view-in-github",
        "colab_type": "text"
      },
      "source": [
        "<a href=\"https://colab.research.google.com/github/9072814845/dsml/blob/main/Untitled0.ipynb\" target=\"_parent\"><img src=\"https://colab.research.google.com/assets/colab-badge.svg\" alt=\"Open In Colab\"/></a>"
      ]
    },
    {
      "cell_type": "code",
      "metadata": {
        "colab": {
          "base_uri": "https://localhost:8080/"
        },
        "id": "rD4auroNO4cw",
        "outputId": "e7c0b55d-1069-45b6-8683-b77a69c6f989"
      },
      "source": [
        "print(\"hellooo\")"
      ],
      "execution_count": null,
      "outputs": [
        {
          "output_type": "stream",
          "name": "stdout",
          "text": [
            "hellooo\n"
          ]
        }
      ]
    },
    {
      "cell_type": "code",
      "metadata": {
        "id": "XTGW8WaxMZ5W"
      },
      "source": [
        "import pandas as pd\n",
        "import numpy as np\n",
        "import matplotlib.pyplot as plt\n",
        "import seaborn as sns\n",
        "from scipy import stats\n"
      ],
      "execution_count": 3,
      "outputs": []
    },
    {
      "cell_type": "code",
      "metadata": {
        "colab": {
          "base_uri": "https://localhost:8080/"
        },
        "id": "bEJ955HyMZ6P",
        "outputId": "735d6610-d27f-45c7-aeb7-b12a965d5eb1"
      },
      "source": [
        "movies=pd.read_csv(\"IMDb movies.csv\" )\n",
        "print(movies.head(5))"
      ],
      "execution_count": 5,
      "outputs": [
        {
          "output_type": "stream",
          "name": "stdout",
          "text": [
            "  imdb_title_id  ... reviews_from_critics\n",
            "0     tt0000009  ...                  2.0\n",
            "1     tt0000574  ...                  7.0\n",
            "2     tt0001892  ...                  2.0\n",
            "3     tt0002101  ...                  3.0\n",
            "4     tt0002130  ...                 14.0\n",
            "\n",
            "[5 rows x 22 columns]\n"
          ]
        },
        {
          "output_type": "stream",
          "name": "stderr",
          "text": [
            "/usr/local/lib/python3.7/dist-packages/IPython/core/interactiveshell.py:2718: DtypeWarning: Columns (3) have mixed types.Specify dtype option on import or set low_memory=False.\n",
            "  interactivity=interactivity, compiler=compiler, result=result)\n"
          ]
        }
      ]
    },
    {
      "cell_type": "code",
      "metadata": {
        "colab": {
          "base_uri": "https://localhost:8080/"
        },
        "id": "74qp8i9wP-F8",
        "outputId": "cc3b9277-acf5-443a-a96d-f352be0d5886"
      },
      "source": [
        "s=1\n",
        "print(type(s))\n",
        "a=\"hello\"\n",
        "print(type(a))\n",
        "b=[1,2]\n",
        "print(type(b))\n",
        "c={1:'apple',2:'orange'}\n",
        "print(type(c))\n",
        "d=True\n",
        "print(type(d))\n",
        "e=1.2\n",
        "print(type(e))\n",
        "f={\"a\",\"b\"}\n",
        "print(type(f))\n",
        "g=()\n",
        "print(type(g))\n",
        "h=bytes()\n",
        "print(type(h))\n",
        "i=bytearray()\n",
        "print(type(i))\n",
        "j=range(4)\n",
        "print(type(j))"
      ],
      "execution_count": null,
      "outputs": [
        {
          "output_type": "stream",
          "name": "stdout",
          "text": [
            "<class 'int'>\n",
            "<class 'str'>\n",
            "<class 'list'>\n",
            "<class 'dict'>\n",
            "<class 'bool'>\n",
            "<class 'float'>\n",
            "<class 'set'>\n",
            "<class 'tuple'>\n",
            "<class 'bytes'>\n",
            "<class 'bytearray'>\n",
            "<class 'range'>\n"
          ]
        }
      ]
    },
    {
      "cell_type": "code",
      "metadata": {
        "colab": {
          "base_uri": "https://localhost:8080/"
        },
        "id": "AtP8pK8ZTqQM",
        "outputId": "03e8c345-2c07-4333-d65d-aaaa941016f9"
      },
      "source": [
        "k=['s','r','e','e']\n",
        "print(k[0])\n",
        "print(k[1])\n",
        "print(k[2])\n",
        "print(k[3])\n",
        "print(k[0:2])\n",
        "print(k[ : ])\n",
        "print(k[-2])\n"
      ],
      "execution_count": null,
      "outputs": [
        {
          "output_type": "stream",
          "name": "stdout",
          "text": [
            "s\n",
            "r\n",
            "e\n",
            "e\n",
            "['s', 'r']\n",
            "['s', 'r', 'e', 'e']\n",
            "e\n"
          ]
        }
      ]
    },
    {
      "cell_type": "code",
      "metadata": {
        "colab": {
          "base_uri": "https://localhost:8080/"
        },
        "id": "1rfCu97VXNgu",
        "outputId": "daaff588-c0a1-4576-9a9c-f077b4c25c57"
      },
      "source": [
        "d={1:'sreelekshmi',2:'aswathy',3:'anjali'}\n",
        "print(d)\n",
        "print(\"1st name is\"+d[1])\n",
        "print(\"2nd name is\"+d[2])\n",
        "print(d.keys())\n",
        "print(d.values())\n"
      ],
      "execution_count": null,
      "outputs": [
        {
          "output_type": "stream",
          "name": "stdout",
          "text": [
            "{1: 'sreelekshmi', 2: 'aswathy', 3: 'anjali'}\n",
            "1st name issreelekshmi\n",
            "2nd name isaswathy\n",
            "dict_keys([1, 2, 3])\n",
            "dict_values(['sreelekshmi', 'aswathy', 'anjali'])\n"
          ]
        }
      ]
    },
    {
      "cell_type": "code",
      "metadata": {
        "colab": {
          "base_uri": "https://localhost:8080/"
        },
        "id": "hLbxT6VpZOQR",
        "outputId": "ca27e755-44ed-430f-e541-03bc4a6df90e"
      },
      "source": [
        "def add(a,b):\n",
        "  return a+b\n",
        "res=add(2,3)\n",
        "print(\"result\",res)"
      ],
      "execution_count": null,
      "outputs": [
        {
          "output_type": "stream",
          "name": "stdout",
          "text": [
            "result 5\n"
          ]
        }
      ]
    },
    {
      "cell_type": "code",
      "metadata": {
        "colab": {
          "base_uri": "https://localhost:8080/"
        },
        "id": "ZdJcXvN4bDsU",
        "outputId": "8a7de983-b6a4-4be1-8359-ce83dad099d6"
      },
      "source": [
        "import numpy as np\n",
        "  \n",
        "matrix1 = np.array([[1, 3], [2, 6]])\n",
        "matrix2 = np.array([[0, 1], [1, 9]])\n",
        "print(\"Original 2-D matrix:\")\n",
        "print(matrix1)\n",
        "print(matrix2)"
      ],
      "execution_count": null,
      "outputs": [
        {
          "output_type": "stream",
          "name": "stdout",
          "text": [
            "Original 2-D matrix:\n",
            "[[1 3]\n",
            " [2 6]]\n",
            "[[0 1]\n",
            " [1 9]]\n"
          ]
        }
      ]
    },
    {
      "cell_type": "code",
      "metadata": {
        "colab": {
          "base_uri": "https://localhost:8080/"
        },
        "id": "FafUCxs9eGUQ",
        "outputId": "70737476-db24-4fd6-e338-fc3738920ebe"
      },
      "source": [
        "import numpy as geek\n",
        "  \n",
        "in_arr1 = geek.array([[2, -7, 5], [-6, 2, 0]])\n",
        "in_arr2 = geek.array([[0, -7, 8], [5, -2, 9]])\n",
        "   \n",
        "print (\"1st Input array : \", in_arr1)\n",
        "print (\"2nd Input array : \", in_arr2)\n",
        "   \n",
        "    \n",
        "out_arr = geek.multiply(in_arr1, in_arr2) \n",
        "print (\"Resultant output array: \", out_arr) \n"
      ],
      "execution_count": null,
      "outputs": [
        {
          "output_type": "stream",
          "name": "stdout",
          "text": [
            "1st Input array :  [[ 2 -7  5]\n",
            " [-6  2  0]]\n",
            "2nd Input array :  [[ 0 -7  8]\n",
            " [ 5 -2  9]]\n",
            "Resultant output array:  [[  0  49  40]\n",
            " [-30  -4   0]]\n"
          ]
        }
      ]
    },
    {
      "cell_type": "code",
      "metadata": {
        "colab": {
          "base_uri": "https://localhost:8080/"
        },
        "id": "U8D5BQVvgj2Y",
        "outputId": "b124b831-cd16-494e-84e6-6f17f2cf3f96"
      },
      "source": [
        "import numpy as np \n",
        "        \n",
        "arr = [[14, 17, 12, 33, 44],   \n",
        "       [15, 6, 27, 8, 19],  \n",
        "       [23, 2, 54, 1, 4,]]  \n",
        "   \n",
        "print(\"\\nSum of arr : \", np.sum(arr)) \n",
        "print(\"Sum of arr(axis = 0) : \", np.sum(arr, axis = 0)) \n",
        "print(\"Sum of arr(axis = 1) : \", np.sum(arr, axis = 1))\n",
        "  \n",
        "print(\"\\nSum of arr (keepdimension is True): \\n\",\n",
        "      np.sum(arr, axis = 1, keepdims = True))\n"
      ],
      "execution_count": null,
      "outputs": [
        {
          "output_type": "stream",
          "name": "stdout",
          "text": [
            "\n",
            "Sum of arr :  279\n",
            "Sum of arr(axis = 0) :  [52 25 93 42 67]\n",
            "Sum of arr(axis = 1) :  [120  75  84]\n",
            "\n",
            "Sum of arr (keepdimension is True): \n",
            " [[120]\n",
            " [ 75]\n",
            " [ 84]]\n"
          ]
        }
      ]
    },
    {
      "cell_type": "code",
      "metadata": {
        "id": "p3AHzCPvgzAk"
      },
      "source": [
        ""
      ],
      "execution_count": null,
      "outputs": []
    },
    {
      "cell_type": "code",
      "metadata": {
        "colab": {
          "base_uri": "https://localhost:8080/"
        },
        "id": "vACqchbIgzBu",
        "outputId": "97a7461d-1050-4eae-f3f3-cd761dbe9e53"
      },
      "source": [
        "import numpy as np\n",
        "  \n",
        "a = [[1, 0], [0, 1]]\n",
        "b = [[4, 1], [2, 2]]\n",
        "np.dot(a, b)"
      ],
      "execution_count": null,
      "outputs": [
        {
          "output_type": "execute_result",
          "data": {
            "text/plain": [
              "array([[4, 1],\n",
              "       [2, 2]])"
            ]
          },
          "metadata": {},
          "execution_count": 29
        }
      ]
    }
  ]
}